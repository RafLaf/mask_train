{
 "cells": [
  {
   "cell_type": "code",
   "execution_count": 1,
   "metadata": {},
   "outputs": [],
   "source": [
    "import re\n",
    "import matplotlib.pyplot as plt"
   ]
  },
  {
   "cell_type": "code",
   "execution_count": 8,
   "metadata": {},
   "outputs": [
    {
     "ename": "FileNotFoundError",
     "evalue": "[Errno 2] No such file or directory: '../../output_files/logs/mask_fungi.log'",
     "output_type": "error",
     "traceback": [
      "\u001b[0;31m---------------------------------------------------------------------------\u001b[0m",
      "\u001b[0;31mFileNotFoundError\u001b[0m                         Traceback (most recent call last)",
      "Cell \u001b[0;32mIn[8], line 33\u001b[0m\n\u001b[1;32m     31\u001b[0m \u001b[38;5;66;03m# Parse the two log files\u001b[39;00m\n\u001b[1;32m     32\u001b[0m num_shots1, accuracies1 \u001b[38;5;241m=\u001b[39m parse_log_file(filename, pattern1)\n\u001b[0;32m---> 33\u001b[0m num_shots2, accuracies2 \u001b[38;5;241m=\u001b[39m \u001b[43mparse_log_file\u001b[49m\u001b[43m(\u001b[49m\u001b[43mfilename2\u001b[49m\u001b[43m,\u001b[49m\u001b[43m \u001b[49m\u001b[43mpattern2\u001b[49m\u001b[43m)\u001b[49m\n\u001b[1;32m     35\u001b[0m \u001b[38;5;66;03m# Plot the results from both log files\u001b[39;00m\n\u001b[1;32m     36\u001b[0m plt\u001b[38;5;241m.\u001b[39mfigure(figsize\u001b[38;5;241m=\u001b[39m(\u001b[38;5;241m10\u001b[39m, \u001b[38;5;241m6\u001b[39m))\n",
      "Cell \u001b[0;32mIn[8], line 16\u001b[0m, in \u001b[0;36mparse_log_file\u001b[0;34m(log_file, pattern)\u001b[0m\n\u001b[1;32m     13\u001b[0m num_shots \u001b[38;5;241m=\u001b[39m []\n\u001b[1;32m     14\u001b[0m accuracies \u001b[38;5;241m=\u001b[39m []\n\u001b[0;32m---> 16\u001b[0m \u001b[38;5;28;01mwith\u001b[39;00m \u001b[38;5;28;43mopen\u001b[39;49m\u001b[43m(\u001b[49m\u001b[43mlog_file\u001b[49m\u001b[43m,\u001b[49m\u001b[43m \u001b[49m\u001b[38;5;124;43m'\u001b[39;49m\u001b[38;5;124;43mr\u001b[39;49m\u001b[38;5;124;43m'\u001b[39;49m\u001b[43m)\u001b[49m \u001b[38;5;28;01mas\u001b[39;00m file:\n\u001b[1;32m     17\u001b[0m     \u001b[38;5;28;01mfor\u001b[39;00m line \u001b[38;5;129;01min\u001b[39;00m file:\n\u001b[1;32m     18\u001b[0m         match \u001b[38;5;241m=\u001b[39m re\u001b[38;5;241m.\u001b[39msearch(pattern, line)\n",
      "File \u001b[0;32m/speech/dbwork/mul/spielwiese/delafarr/lab/lib/python3.8/site-packages/IPython/core/interactiveshell.py:284\u001b[0m, in \u001b[0;36m_modified_open\u001b[0;34m(file, *args, **kwargs)\u001b[0m\n\u001b[1;32m    277\u001b[0m \u001b[38;5;28;01mif\u001b[39;00m file \u001b[38;5;129;01min\u001b[39;00m {\u001b[38;5;241m0\u001b[39m, \u001b[38;5;241m1\u001b[39m, \u001b[38;5;241m2\u001b[39m}:\n\u001b[1;32m    278\u001b[0m     \u001b[38;5;28;01mraise\u001b[39;00m \u001b[38;5;167;01mValueError\u001b[39;00m(\n\u001b[1;32m    279\u001b[0m         \u001b[38;5;124mf\u001b[39m\u001b[38;5;124m\"\u001b[39m\u001b[38;5;124mIPython won\u001b[39m\u001b[38;5;124m'\u001b[39m\u001b[38;5;124mt let you open fd=\u001b[39m\u001b[38;5;132;01m{\u001b[39;00mfile\u001b[38;5;132;01m}\u001b[39;00m\u001b[38;5;124m by default \u001b[39m\u001b[38;5;124m\"\u001b[39m\n\u001b[1;32m    280\u001b[0m         \u001b[38;5;124m\"\u001b[39m\u001b[38;5;124mas it is likely to crash IPython. If you know what you are doing, \u001b[39m\u001b[38;5;124m\"\u001b[39m\n\u001b[1;32m    281\u001b[0m         \u001b[38;5;124m\"\u001b[39m\u001b[38;5;124myou can use builtins\u001b[39m\u001b[38;5;124m'\u001b[39m\u001b[38;5;124m open.\u001b[39m\u001b[38;5;124m\"\u001b[39m\n\u001b[1;32m    282\u001b[0m     )\n\u001b[0;32m--> 284\u001b[0m \u001b[38;5;28;01mreturn\u001b[39;00m \u001b[43mio_open\u001b[49m\u001b[43m(\u001b[49m\u001b[43mfile\u001b[49m\u001b[43m,\u001b[49m\u001b[43m \u001b[49m\u001b[38;5;241;43m*\u001b[39;49m\u001b[43margs\u001b[49m\u001b[43m,\u001b[49m\u001b[43m \u001b[49m\u001b[38;5;241;43m*\u001b[39;49m\u001b[38;5;241;43m*\u001b[39;49m\u001b[43mkwargs\u001b[49m\u001b[43m)\u001b[49m\n",
      "\u001b[0;31mFileNotFoundError\u001b[0m: [Errno 2] No such file or directory: '../../output_files/logs/mask_fungi.log'"
     ]
    }
   ],
   "source": [
    "# Initialize lists to store the number of shots and the corresponding accuracies\n",
    "dataset = 'fungi'\n",
    "num_shots = []\n",
    "accuracies = []\n",
    "filename = f'../../output_files/logs/lora_{dataset}.log'\n",
    "filename2 = f'../../output_files/logs/mask_{dataset}.log'\n",
    "\n",
    "import re\n",
    "import matplotlib.pyplot as plt\n",
    "\n",
    "# Function to extract number of shots and accuracy from a log file\n",
    "def parse_log_file(log_file, pattern):\n",
    "    num_shots = []\n",
    "    accuracies = []\n",
    "    \n",
    "    with open(log_file, 'r') as file:\n",
    "        for line in file:\n",
    "            match = re.search(pattern, line)\n",
    "            if match:\n",
    "                num_shot = int(match.group(1))\n",
    "                accuracy = float(match.group(2))\n",
    "                num_shots.append(num_shot)\n",
    "                accuracies.append(accuracy)\n",
    "                \n",
    "    return num_shots, accuracies\n",
    "\n",
    "# Define the regex patterns for each log file\n",
    "pattern1 = r'Best trial for (\\d+) shots: Value: ([\\d.]+)'\n",
    "pattern2 = r'Best trial: \\{\\'num_shots\\': (\\d+), \\'best_accuracy\\': ([\\d.]+)'\n",
    "\n",
    "# Parse the two log files\n",
    "num_shots1, accuracies1 = parse_log_file(filename, pattern1)\n",
    "num_shots2, accuracies2 = parse_log_file(filename2, pattern2)\n",
    "\n",
    "# Plot the results from both log files\n",
    "plt.figure(figsize=(10, 6))\n",
    "\n",
    "# Plot for logfile.log (LoRA)\n",
    "plt.plot(num_shots1, accuracies1, marker='o', linestyle='-', color='b', label=f'LoRA {filname}')\n",
    "\n",
    "# Plot for logfile2.log (Mask)\n",
    "plt.plot(num_shots2, accuracies2, marker='s', linestyle='--', color='g', label=f'LoRA {filname}')\n",
    "\n",
    "# Add title and labels\n",
    "plt.title('Accuracy vs Number of Shots (LoRA and Mask)')\n",
    "plt.xlabel('Number of Shots')\n",
    "plt.ylabel('Best Accuracy (%)')\n",
    "plt.grid(True)\n",
    "\n",
    "# Add legend to differentiate the two datasets\n",
    "plt.legend()\n",
    "\n",
    "# Show the x-axis with the exact number of shots\n",
    "plt.xticks(sorted(set(num_shots1 + num_shots2)))\n",
    "\n",
    "# Display the plot\n",
    "plt.show()\n"
   ]
  }
 ],
 "metadata": {
  "kernelspec": {
   "display_name": "lab",
   "language": "python",
   "name": "python3"
  },
  "language_info": {
   "codemirror_mode": {
    "name": "ipython",
    "version": 3
   },
   "file_extension": ".py",
   "mimetype": "text/x-python",
   "name": "python",
   "nbconvert_exporter": "python",
   "pygments_lexer": "ipython3",
   "version": "3.8.10"
  }
 },
 "nbformat": 4,
 "nbformat_minor": 2
}
