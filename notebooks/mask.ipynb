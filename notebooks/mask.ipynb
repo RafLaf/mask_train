{
 "cells": [
  {
   "cell_type": "code",
   "execution_count": 1,
   "metadata": {},
   "outputs": [],
   "source": [
    "import torch\n",
    "import matplotlib.pyplot as plt\n",
    "import numpy as np"
   ]
  },
  {
   "cell_type": "code",
   "execution_count": 2,
   "metadata": {},
   "outputs": [
    {
     "name": "stdout",
     "output_type": "stream",
     "text": [
      "mean: 95.57142715454101 pm: 0.4653732007611951\n",
      "baseline: 95.55999877929688 pm 0.4637421300928331\n"
     ]
    }
   ],
   "source": [
    "out = []\n",
    "for i in range(50):\n",
    "    a = torch.load(f'/home/raphael/Documents/prune2adapt/prune2adapt/new_metadataset_result/evaluation/default/results_mask_adam_dtd_50_shots_task{i}.pt')\n",
    "    # a = torch.load(f'/home/raphael/Documents/prune2adapt/prune2adapt/new_metadataset_result/evaluation/default/LORA/evaluation/default/test/results_lora_dtd_50_shots_task{i}.pt')\n",
    "    acc = a['dtd'][0][0]\n",
    "    out.append(acc)\n",
    "\n",
    "print(f'mean: {np.mean(out)} pm: {1.96*np.std(out)/np.sqrt(len(out))}')\n",
    "baseline = (95.55999877929688, 0.4637421300928331)\n",
    "print(f'baseline: {baseline[0]} pm {baseline[1]}')"
   ]
  },
  {
   "cell_type": "code",
   "execution_count": 3,
   "metadata": {},
   "outputs": [
    {
     "name": "stdout",
     "output_type": "stream",
     "text": [
      "mean: 95.26857116699219 pm: 0.5061507623933826\n",
      "baseline: 95.55999877929688 pm 0.4637421300928331\n"
     ]
    }
   ],
   "source": [
    "out = []\n",
    "for i in range(50):\n",
    "    a = torch.load(f'/home/raphael/Documents/prune2adapt/prune2adapt/mask/evaluation/default/results_mask_adam_dtd_50_shots_task{i}.pt')\n",
    "    # a = torch.load(f'/home/raphael/Documents/prune2adapt/prune2adapt/new_metadataset_result/evaluation/default/LORA/evaluation/default/test/results_lora_dtd_50_shots_task{i}.pt')\n",
    "    acc = a['dtd'][0][0]\n",
    "    out.append(acc)\n",
    "\n",
    "print(f'mean: {np.mean(out)} pm: {1.96*np.std(out)/np.sqrt(len(out))}')\n",
    "baseline = (95.55999877929688, 0.4637421300928331)\n",
    "print(f'baseline: {baseline[0]} pm {baseline[1]}')"
   ]
  },
  {
   "cell_type": "code",
   "execution_count": 4,
   "metadata": {},
   "outputs": [
    {
     "name": "stdout",
     "output_type": "stream",
     "text": [
      "mean: 95.62285614013672 pm: 0.4520251488825288\n",
      "baseline: 95.55999877929688 pm 0.4637421300928331\n"
     ]
    }
   ],
   "source": [
    "out = []\n",
    "for i in range(50):\n",
    "    a = torch.load(f'/home/raphael/Documents/prune2adapt/prune2adapt/mask_not_binary/evaluation/default/results_mask_adam_dtd_50_shots_task{i}.pt')\n",
    "    # a = torch.load(f'/home/raphael/Documents/prune2adapt/prune2adapt/new_metadataset_result/evaluation/default/LORA/evaluation/default/test/results_lora_dtd_50_shots_task{i}.pt')\n",
    "    acc = a['dtd'][0][0]\n",
    "    out.append(acc)\n",
    "\n",
    "print(f'mean: {np.mean(out)} pm: {1.96*np.std(out)/np.sqrt(len(out))}')\n",
    "baseline = (95.55999877929688, 0.4637421300928331)\n",
    "print(f'baseline: {baseline[0]} pm {baseline[1]}')"
   ]
  },
  {
   "cell_type": "code",
   "execution_count": 5,
   "metadata": {},
   "outputs": [
    {
     "name": "stdout",
     "output_type": "stream",
     "text": [
      "mean: 94.73714202880859 pm: 0.5061334117874722\n",
      "baseline: 95.55999877929688 pm 0.4637421300928331\n"
     ]
    }
   ],
   "source": [
    "out = []\n",
    "for i in range(50):\n",
    "    a = torch.load(f'/home/raphael/Documents/prune2adapt/prune2adapt/mask_no_sigmoid_retrain/evaluation/default/results_mask_adam_dtd_50_shots_task{i}.pt')\n",
    "    # a = torch.load(f'/home/raphael/Documents/prune2adapt/prune2adapt/new_metadataset_result/evaluation/default/LORA/evaluation/default/test/results_lora_dtd_50_shots_task{i}.pt')\n",
    "    acc = a['dtd'][0][0]\n",
    "    out.append(acc)\n",
    "\n",
    "print(f'mean: {np.mean(out)} pm: {1.96*np.std(out)/np.sqrt(len(out))}')\n",
    "baseline = (95.55999877929688, 0.4637421300928331)\n",
    "print(f'baseline: {baseline[0]} pm {baseline[1]}')"
   ]
  },
  {
   "cell_type": "code",
   "execution_count": 6,
   "metadata": {},
   "outputs": [
    {
     "name": "stdout",
     "output_type": "stream",
     "text": [
      "baseline: 95.50285614013671 pm: 0.4703492664702902\n",
      "binary: 94.87999893188477 pm: 0.4917399604406533\n",
      "not_binary: 95.79999862670898 pm: 0.4057586537344657\n",
      "diff_binary: -0.6228572082519531 pm: 0.26958759198126503\n",
      "diff_not_binary: 0.2971424865722656 pm: 0.2396696636172203\n"
     ]
    }
   ],
   "source": [
    "out_binary = []\n",
    "out_not_binary = []\n",
    "baseline = []\n",
    "for i in range(50):\n",
    "    a = torch.load(f'/home/raphael/Documents/prune2adapt/mask_train/output_files/float_mask/evaluation/default/results_mask_adam_dtd_50_shots_task{i}.pt')\n",
    "    b = torch.load(f'/home/raphael/Documents/prune2adapt/mask_train/output_files/binary_mask/evaluation/default/results_mask_adam_dtd_50_shots_task{i}.pt')\n",
    "    c = torch.load(f'/home/raphael/Documents/prune2adapt/mask_train/output_files/baseline/evaluation/default/results_mask_adam_dtd_50_shots_task{i}.pt')\n",
    "    acc = a['dtd'][0][0]\n",
    "    out_not_binary.append(acc)\n",
    "    acc = b['dtd'][0][0]\n",
    "    out_binary.append(acc)\n",
    "    acc = c['dtd'][0][0]\n",
    "    baseline.append(acc)\n",
    "\n",
    "\n",
    "print(f'baseline: {np.mean(baseline)} pm: {1.96*np.std(baseline)/np.sqrt(len(baseline))}')\n",
    "print(f'binary: {np.mean(out_binary)} pm: {1.96*np.std(out_binary)/np.sqrt(len(out_binary))}')\n",
    "print(f'not_binary: {np.mean(out_not_binary)} pm: {1.96*np.std(out_not_binary)/np.sqrt(len(out_not_binary))}')\n",
    "diff_binary = np.array(out_binary) - np.array(baseline)\n",
    "diff_not_binary = np.array(out_not_binary) - np.array(baseline)\n",
    "print(f'diff_binary: {np.mean(diff_binary)} pm: {1.96*np.std(diff_binary)/np.sqrt(len(diff_binary))}')\n",
    "print(f'diff_not_binary: {np.mean(diff_not_binary)} pm: {1.96*np.std(diff_not_binary)/np.sqrt(len(diff_not_binary))}')\n",
    "\n"
   ]
  },
  {
   "cell_type": "code",
   "execution_count": 7,
   "metadata": {},
   "outputs": [
    {
     "name": "stdout",
     "output_type": "stream",
     "text": [
      "baseline: 95.50285614013671 pm: 0.4703492664702902\n",
      "1 head: 94.82857025146484 pm: 0.5186579859738838\n",
      "diff_one_head: -0.674285888671875 pm: 0.25918270739025584\n"
     ]
    }
   ],
   "source": [
    "out_one_head = []\n",
    "for i in range(50):\n",
    "    a = torch.load(f'/home/raphael/Documents/prune2adapt/mask_train/output_files/1_head/evaluation/default/results_mask_adam_dtd_50_shots_task{i}.pt')\n",
    "    acc = a['dtd'][0][0]\n",
    "    out_one_head.append(acc)\n",
    "\n",
    "\n",
    "\n",
    "print(f'baseline: {np.mean(baseline)} pm: {1.96*np.std(baseline)/np.sqrt(len(baseline))}')\n",
    "print(f'1 head: {np.mean(out_one_head)} pm: {1.96*np.std(out_one_head)/np.sqrt(len(out_one_head))}')\n",
    "diff_1_head= np.array(out_one_head) - np.array(baseline)\n",
    "print(f'diff_one_head: {np.mean(diff_1_head)} pm: {1.96*np.std(diff_1_head)/np.sqrt(len(diff_1_head))}')"
   ]
  },
  {
   "cell_type": "code",
   "execution_count": 8,
   "metadata": {},
   "outputs": [
    {
     "name": "stdout",
     "output_type": "stream",
     "text": [
      "baseline: 95.50285614013671 pm: 0.4703492664702902\n",
      "1 head: 94.82285583496093 pm: 0.5302321675686658\n",
      "diff_one_head: -0.6800003051757812 pm: 0.22782569561391816\n"
     ]
    }
   ],
   "source": [
    "out_one_head = []\n",
    "for i in range(50):\n",
    "    a = torch.load(f'/home/raphael/Documents/prune2adapt/mask_train/output_files/only_prune_min_mask_1/evaluation/default/results_mask_adam_dtd_50_shots_task{i}.pt')\n",
    "    acc = a['dtd'][0][0]\n",
    "    out_one_head.append(acc)\n",
    "\n",
    "\n",
    "\n",
    "print(f'baseline: {np.mean(baseline)} pm: {1.96*np.std(baseline)/np.sqrt(len(baseline))}')\n",
    "print(f'1 head: {np.mean(out_one_head)} pm: {1.96*np.std(out_one_head)/np.sqrt(len(out_one_head))}')\n",
    "diff_1_head= np.array(out_one_head) - np.array(baseline)\n",
    "print(f'diff_one_head: {np.mean(diff_1_head)} pm: {1.96*np.std(diff_1_head)/np.sqrt(len(diff_1_head))}')"
   ]
  },
  {
   "cell_type": "code",
   "execution_count": 9,
   "metadata": {},
   "outputs": [
    {
     "name": "stdout",
     "output_type": "stream",
     "text": [
      "baseline: 95.50285614013671 pm: 0.4703492664702902\n",
      "1 head: 95.80571304321289 pm: 0.4110386024492711\n",
      "diff_one_head: 0.30285690307617186 pm: 0.24146855402830839\n"
     ]
    }
   ],
   "source": [
    "out_one_head = []\n",
    "for i in range(50):\n",
    "    a = torch.load(f'/home/raphael/Documents/prune2adapt/mask_train/output_files/2_heads/evaluation/default/results_mask_adam_dtd_50_shots_task{i}.pt')\n",
    "    acc = a['dtd'][0][0]\n",
    "    out_one_head.append(acc)\n",
    "\n",
    "\n",
    "\n",
    "print(f'baseline: {np.mean(baseline)} pm: {1.96*np.std(baseline)/np.sqrt(len(baseline))}')\n",
    "print(f'1 head: {np.mean(out_one_head)} pm: {1.96*np.std(out_one_head)/np.sqrt(len(out_one_head))}')\n",
    "diff_1_head= np.array(out_one_head) - np.array(baseline)\n",
    "print(f'diff_one_head: {np.mean(diff_1_head)} pm: {1.96*np.std(diff_1_head)/np.sqrt(len(diff_1_head))}')"
   ]
  },
  {
   "cell_type": "code",
   "execution_count": 3,
   "metadata": {},
   "outputs": [],
   "source": []
  },
  {
   "cell_type": "code",
   "execution_count": 10,
   "metadata": {},
   "outputs": [
    {
     "name": "stdout",
     "output_type": "stream",
     "text": [
      "baseline: 95.50285614013671 pm: 0.4703492664702902\n",
      "1 head: 95.805712890625 pm: 0.4051987137450298\n",
      "diff_1_head: 0.30285675048828126 pm: 0.24762397604804465\n",
      "baseline: 95.50285614013671 pm: 0.4703492664702902\n",
      "2 head: 95.80571304321289 pm: 0.4110386024492711\n",
      "diff_2_head: 0.30285690307617186 pm: 0.24146855402830839\n",
      "baseline: 95.50285614013671 pm: 0.4703492664702902\n",
      "3 head: 95.74285598754882 pm: 0.4164383586052987\n",
      "diff_3_head: 0.23999984741210936 pm: 0.24092245280940222\n",
      "baseline: 95.50285614013671 pm: 0.4703492664702902\n",
      "4 head: 95.75428451538086 pm: 0.4267803329985081\n",
      "diff_4_head: 0.25142837524414063 pm: 0.2457066996737921\n",
      "baseline: 95.50285614013671 pm: 0.4703492664702902\n",
      "5 head: 95.69714157104492 pm: 0.4301178865819973\n",
      "diff_5_head: 0.19428543090820313 pm: 0.24148410087010394\n",
      "baseline: 95.50285614013671 pm: 0.4703492664702902\n",
      "6 head: 95.66857025146484 pm: 0.43876557659796495\n",
      "diff_6_head: 0.165714111328125 pm: 0.2402603092069326\n",
      "baseline: 95.50285614013671 pm: 0.4703492664702902\n",
      "7 head: 95.68571304321289 pm: 0.4438507030478348\n",
      "diff_7_head: 0.18285690307617186 pm: 0.25528140273236277\n",
      "baseline: 95.50285614013671 pm: 0.4703492664702902\n",
      "8 head: 95.66285614013673 pm: 0.44510380611876044\n",
      "diff_8_head: 0.16 pm: 0.26130350341732383\n",
      "baseline: 95.50285614013671 pm: 0.4703492664702902\n",
      "9 head: 95.60571334838868 pm: 0.44487828280081465\n",
      "diff_9_head: 0.10285720825195313 pm: 0.26014884443958913\n",
      "baseline: 95.50285614013671 pm: 0.4703492664702902\n",
      "10 head: 95.54857070922851 pm: 0.4620837324605007\n",
      "diff_10_head: 0.04571456909179687 pm: 0.26378796795257764\n"
     ]
    },
    {
     "data": {
      "text/plain": [
       "Text(0, 0.5, 'Accuracy difference')"
      ]
     },
     "execution_count": 10,
     "metadata": {},
     "output_type": "execute_result"
    },
    {
     "data": {
      "image/png": "[encoded data removed]",
      "text/plain": [
       "<Figure size 640x480 with 1 Axes>"
      ]
     },
     "metadata": {},
     "output_type": "display_data"
    }
   ],
   "source": [
    "L_diff =[]\n",
    "L_diff_ci = []\n",
    "list_n_lowest = np.arange(1,11)\n",
    "for n_lowest in list_n_lowest:\n",
    "    out_one_head = []\n",
    "    for i in range(50):\n",
    "        a = torch.load(f'/home/raphael/Documents/prune2adapt/mask_train/output_files/{n_lowest}_HEAD/evaluation/default/results_mask_adam_dtd_50_shots_task{i}.pt')\n",
    "        acc = a['dtd'][0][0]\n",
    "        out_one_head.append(acc)\n",
    "\n",
    "\n",
    "\n",
    "    print(f'baseline: {np.mean(baseline)} pm: {1.96*np.std(baseline)/np.sqrt(len(baseline))}')\n",
    "    print(f'{n_lowest} head: {np.mean(out_one_head)} pm: {1.96*np.std(out_one_head)/np.sqrt(len(out_one_head))}')\n",
    "    diff_1_head= np.array(out_one_head) - np.array(baseline)\n",
    "    print(f'diff_{n_lowest}_head: {np.mean(diff_1_head)} pm: {1.96*np.std(diff_1_head)/np.sqrt(len(diff_1_head))}')\n",
    "    L_diff.append(np.mean(diff_1_head))\n",
    "    L_diff_ci.append(1.96*np.std(diff_1_head)/np.sqrt(len(diff_1_head)))\n",
    "plt.errorbar(list_n_lowest, L_diff, yerr=L_diff_ci)\n",
    "plt.xlabel('Number of heads set to 0')\n",
    "plt.ylabel('Accuracy difference')"
   ]
  },
  {
   "cell_type": "code",
   "execution_count": 11,
   "metadata": {},
   "outputs": [
    {
     "name": "stdout",
     "output_type": "stream",
     "text": [
      "baseline: 95.50285614013671 pm: 0.4703492664702902\n",
      "no_constraint: 95.16571319580078 pm: 0.4671460483504318\n",
      "diff_no_constraint: -0.3371429443359375 pm: 0.24316641928659022\n"
     ]
    }
   ],
   "source": [
    "out_one_head = []\n",
    "for i in range(50):\n",
    "    a = torch.load(f'/home/raphael/Documents/prune2adapt/mask_train/output_files/no_constraint/evaluation/default/results_mask_adam_dtd_50_shots_task{i}.pt')\n",
    "    acc = a['dtd'][0][0]\n",
    "    out_one_head.append(acc)\n",
    "\n",
    "\n",
    "\n",
    "print(f'baseline: {np.mean(baseline)} pm: {1.96*np.std(baseline)/np.sqrt(len(baseline))}')\n",
    "print(f'no_constraint: {np.mean(out_one_head)} pm: {1.96*np.std(out_one_head)/np.sqrt(len(out_one_head))}')\n",
    "diff_1_head= np.array(out_one_head) - np.array(baseline)\n",
    "print(f'diff_no_constraint: {np.mean(diff_1_head)} pm: {1.96*np.std(diff_1_head)/np.sqrt(len(diff_1_head))}')"
   ]
  },
  {
   "cell_type": "code",
   "execution_count": 12,
   "metadata": {},
   "outputs": [
    {
     "name": "stdout",
     "output_type": "stream",
     "text": [
      "baseline: 95.50285614013671 pm: 0.4703492664702902\n",
      "no_constraint: 95.16571319580078 pm: 0.4671460483504318\n",
      "diff_no_constraint: -0.3371429443359375 pm: 0.24316641928659022\n"
     ]
    }
   ],
   "source": [
    "out_one_head = []\n",
    "for i in range(50):\n",
    "    a = torch.load(f'/home/raphael/Documents/prune2adapt/mask_train/output_files/no_constraint_no_sigmoid/evaluation/default/results_mask_adam_dtd_50_shots_task{i}.pt')\n",
    "    acc = a['dtd'][0][0]\n",
    "    out_one_head.append(acc)\n",
    "\n",
    "\n",
    "\n",
    "print(f'baseline: {np.mean(baseline)} pm: {1.96*np.std(baseline)/np.sqrt(len(baseline))}')\n",
    "print(f'no_constraint: {np.mean(out_one_head)} pm: {1.96*np.std(out_one_head)/np.sqrt(len(out_one_head))}')\n",
    "diff_1_head= np.array(out_one_head) - np.array(baseline)\n",
    "print(f'diff_no_constraint: {np.mean(diff_1_head)} pm: {1.96*np.std(diff_1_head)/np.sqrt(len(diff_1_head))}')"
   ]
  },
  {
   "cell_type": "code",
   "execution_count": 13,
   "metadata": {},
   "outputs": [
    {
     "ename": "TypeError",
     "evalue": "object of type 'int' has no len()",
     "output_type": "error",
     "traceback": [
      "\u001b[0;31m---------------------------------------------------------------------------\u001b[0m",
      "\u001b[0;31mTypeError\u001b[0m                                 Traceback (most recent call last)",
      "Cell \u001b[0;32mIn[13], line 10\u001b[0m\n\u001b[1;32m      5\u001b[0m     acc \u001b[38;5;241m=\u001b[39m a[\u001b[38;5;124m'\u001b[39m\u001b[38;5;124mmscoco\u001b[39m\u001b[38;5;124m'\u001b[39m][\u001b[38;5;241m0\u001b[39m][\u001b[38;5;241m0\u001b[39m]\n\u001b[1;32m      6\u001b[0m     out_one_head\u001b[38;5;241m.\u001b[39mappend(acc)\n\u001b[0;32m---> 10\u001b[0m \u001b[38;5;28mprint\u001b[39m(\u001b[38;5;124mf\u001b[39m\u001b[38;5;124m'\u001b[39m\u001b[38;5;124mbaseline: \u001b[39m\u001b[38;5;132;01m{\u001b[39;00mnp\u001b[38;5;241m.\u001b[39mmean(baseline)\u001b[38;5;132;01m}\u001b[39;00m\u001b[38;5;124m pm: \u001b[39m\u001b[38;5;132;01m{\u001b[39;00m\u001b[38;5;241m1.96\u001b[39m\u001b[38;5;241m*\u001b[39mnp\u001b[38;5;241m.\u001b[39mstd(baseline)\u001b[38;5;241m/\u001b[39mnp\u001b[38;5;241m.\u001b[39msqrt(\u001b[38;5;28;43mlen\u001b[39;49m\u001b[43m(\u001b[49m\u001b[43mbaseline\u001b[49m\u001b[43m)\u001b[49m)\u001b[38;5;132;01m}\u001b[39;00m\u001b[38;5;124m'\u001b[39m)\n\u001b[1;32m     11\u001b[0m \u001b[38;5;28mprint\u001b[39m(\u001b[38;5;124mf\u001b[39m\u001b[38;5;124m'\u001b[39m\u001b[38;5;124mno_constraint: \u001b[39m\u001b[38;5;132;01m{\u001b[39;00mnp\u001b[38;5;241m.\u001b[39mmean(out_one_head)\u001b[38;5;132;01m}\u001b[39;00m\u001b[38;5;124m pm: \u001b[39m\u001b[38;5;132;01m{\u001b[39;00m\u001b[38;5;241m1.96\u001b[39m\u001b[38;5;241m*\u001b[39mnp\u001b[38;5;241m.\u001b[39mstd(out_one_head)\u001b[38;5;241m/\u001b[39mnp\u001b[38;5;241m.\u001b[39msqrt(\u001b[38;5;28mlen\u001b[39m(out_one_head))\u001b[38;5;132;01m}\u001b[39;00m\u001b[38;5;124m'\u001b[39m)\n\u001b[1;32m     12\u001b[0m diff_1_head\u001b[38;5;241m=\u001b[39m np\u001b[38;5;241m.\u001b[39marray(out_one_head) \u001b[38;5;241m-\u001b[39m np\u001b[38;5;241m.\u001b[39marray(baseline)\n",
      "\u001b[0;31mTypeError\u001b[0m: object of type 'int' has no len()"
     ]
    }
   ],
   "source": [
    "baseline = 0\n",
    "out_one_head = []\n",
    "for i in range(50):\n",
    "    a = torch.load(f'/home/raphael/Documents/prune2adapt/mask_train/output_files/no_constraint/evaluation/default/results_mask_adam_mscoco_50_shots_task{i}.pt')\n",
    "    acc = a['mscoco'][0][0]\n",
    "    out_one_head.append(acc)\n",
    "\n",
    "\n",
    "\n",
    "print(f'baseline: {np.mean(baseline)} pm: {1.96*np.std(baseline)/np.sqrt(len(baseline))}')\n",
    "print(f'no_constraint: {np.mean(out_one_head)} pm: {1.96*np.std(out_one_head)/np.sqrt(len(out_one_head))}')\n",
    "diff_1_head= np.array(out_one_head) - np.array(baseline)\n",
    "print(f'diff_no_constraint: {np.mean(diff_1_head)} pm: {1.96*np.std(diff_1_head)/np.sqrt(len(diff_1_head))}')"
   ]
  },
  {
   "cell_type": "code",
   "execution_count": 14,
   "metadata": {},
   "outputs": [
    {
     "ename": "TypeError",
     "evalue": "object of type 'int' has no len()",
     "output_type": "error",
     "traceback": [
      "\u001b[0;31m---------------------------------------------------------------------------\u001b[0m",
      "\u001b[0;31mTypeError\u001b[0m                                 Traceback (most recent call last)",
      "Cell \u001b[0;32mIn[14], line 9\u001b[0m\n\u001b[1;32m      4\u001b[0m     acc \u001b[38;5;241m=\u001b[39m a[\u001b[38;5;124m'\u001b[39m\u001b[38;5;124mmscoco\u001b[39m\u001b[38;5;124m'\u001b[39m][\u001b[38;5;241m0\u001b[39m][\u001b[38;5;241m0\u001b[39m]\n\u001b[1;32m      5\u001b[0m     out_one_head\u001b[38;5;241m.\u001b[39mappend(acc)\n\u001b[0;32m----> 9\u001b[0m \u001b[38;5;28mprint\u001b[39m(\u001b[38;5;124mf\u001b[39m\u001b[38;5;124m'\u001b[39m\u001b[38;5;124mbaseline: \u001b[39m\u001b[38;5;132;01m{\u001b[39;00mnp\u001b[38;5;241m.\u001b[39mmean(baseline)\u001b[38;5;132;01m}\u001b[39;00m\u001b[38;5;124m pm: \u001b[39m\u001b[38;5;132;01m{\u001b[39;00m\u001b[38;5;241m1.96\u001b[39m\u001b[38;5;241m*\u001b[39mnp\u001b[38;5;241m.\u001b[39mstd(baseline)\u001b[38;5;241m/\u001b[39mnp\u001b[38;5;241m.\u001b[39msqrt(\u001b[38;5;28;43mlen\u001b[39;49m\u001b[43m(\u001b[49m\u001b[43mbaseline\u001b[49m\u001b[43m)\u001b[49m)\u001b[38;5;132;01m}\u001b[39;00m\u001b[38;5;124m'\u001b[39m)\n\u001b[1;32m     10\u001b[0m \u001b[38;5;28mprint\u001b[39m(\u001b[38;5;124mf\u001b[39m\u001b[38;5;124m'\u001b[39m\u001b[38;5;124mno_constraint: \u001b[39m\u001b[38;5;132;01m{\u001b[39;00mnp\u001b[38;5;241m.\u001b[39mmean(out_one_head)\u001b[38;5;132;01m}\u001b[39;00m\u001b[38;5;124m pm: \u001b[39m\u001b[38;5;132;01m{\u001b[39;00m\u001b[38;5;241m1.96\u001b[39m\u001b[38;5;241m*\u001b[39mnp\u001b[38;5;241m.\u001b[39mstd(out_one_head)\u001b[38;5;241m/\u001b[39mnp\u001b[38;5;241m.\u001b[39msqrt(\u001b[38;5;28mlen\u001b[39m(out_one_head))\u001b[38;5;132;01m}\u001b[39;00m\u001b[38;5;124m'\u001b[39m)\n\u001b[1;32m     11\u001b[0m diff_1_head\u001b[38;5;241m=\u001b[39m np\u001b[38;5;241m.\u001b[39marray(out_one_head) \u001b[38;5;241m-\u001b[39m np\u001b[38;5;241m.\u001b[39marray(baseline)\n",
      "\u001b[0;31mTypeError\u001b[0m: object of type 'int' has no len()"
     ]
    }
   ],
   "source": [
    "out_one_head = []\n",
    "for i in range(50):\n",
    "    a = torch.load(f'/home/raphael/Documents/prune2adapt/mask_train/output_files/no_constraint_no_sigmoid/evaluation/default/results_mask_adam_mscoco_50_shots_task{i}.pt')\n",
    "    acc = a['mscoco'][0][0]\n",
    "    out_one_head.append(acc)\n",
    "\n",
    "\n",
    "\n",
    "print(f'baseline: {np.mean(baseline)} pm: {1.96*np.std(baseline)/np.sqrt(len(baseline))}')\n",
    "print(f'no_constraint: {np.mean(out_one_head)} pm: {1.96*np.std(out_one_head)/np.sqrt(len(out_one_head))}')\n",
    "diff_1_head= np.array(out_one_head) - np.array(baseline)\n",
    "print(f'diff_no_constraint: {np.mean(diff_1_head)} pm: {1.96*np.std(diff_1_head)/np.sqrt(len(diff_1_head))}')"
   ]
  }
 ],
 "metadata": {
  "kernelspec": {
   "display_name": "lab",
   "language": "python",
   "name": "python3"
  },
  "language_info": {
   "codemirror_mode": {
    "name": "ipython",
    "version": 3
   },
   "file_extension": ".py",
   "mimetype": "text/x-python",
   "name": "python",
   "nbconvert_exporter": "python",
   "pygments_lexer": "ipython3",
   "version": "3.10.12"
  }
 },
 "nbformat": 4,
 "nbformat_minor": 2
}
