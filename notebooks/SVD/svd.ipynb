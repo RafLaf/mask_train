{
 "cells": [
  {
   "cell_type": "code",
   "execution_count": 2,
   "metadata": {},
   "outputs": [],
   "source": [
    "import torch\n",
    "import numpy as np\n",
    "import random\n",
    "import torch.nn as nn\n",
    "import hashlib\n",
    "import matplotlib.pyplot as plt\n"
   ]
  },
  {
   "cell_type": "code",
   "execution_count": 3,
   "metadata": {},
   "outputs": [],
   "source": [
    "def init_random():\n",
    "    # Set seeds for reproducibility\n",
    "    torch.manual_seed(0)\n",
    "    torch.cuda.manual_seed(0)\n",
    "    np.random.seed(123)\n",
    "    random.seed(123)\n",
    "\n",
    "\n",
    "\n",
    "# Define parameters\n",
    "dim = 768\n",
    "num_heads = 12\n",
    "head_dim = dim // num_heads\n",
    "scale = head_dim ** -0.5\n",
    "qkv_bias = False\n",
    "proj_bias = True\n",
    "attn_drop_rate = 0.1\n",
    "proj_drop_rate = 0.0"
   ]
  },
  {
   "cell_type": "code",
   "execution_count": 4,
   "metadata": {},
   "outputs": [],
   "source": [
    "def custom_attn_forward(x: torch.Tensor, scale=scale) -> torch.Tensor:\n",
    "    B, N, C = x.shape\n",
    "    qkv_out = qkv(x).reshape(B, N, 3, num_heads, C // num_heads).permute(2, 0, 3, 1, 4)\n",
    "    q, k, v = qkv_out[0] * scale, qkv_out[1], qkv_out[2]\n",
    "\n",
    "    attn = q @ k.transpose(-2, -1)\n",
    "    attn = attn.softmax(dim=-1)\n",
    "    attn = attn_drop(attn)\n",
    "\n",
    "    x = (attn @ v).transpose(1, 2).reshape(B, N, C)\n",
    "    x = proj(x)\n",
    "    x = proj_drop(x)\n",
    "    return x"
   ]
  },
  {
   "cell_type": "code",
   "execution_count": 5,
   "metadata": {},
   "outputs": [],
   "source": [
    "# Initialize modules with controlled random weights for reproducibility\n",
    "init_random()\n",
    "qkv = nn.Linear(dim, dim * 3, bias=qkv_bias)\n",
    "attn_drop = nn.Dropout(attn_drop_rate)\n",
    "proj = nn.Linear(dim, dim, bias=proj_bias)\n",
    "proj_drop = nn.Dropout(proj_drop_rate)\n",
    "x = torch.randn((100, 3, dim))\n",
    "\n",
    "# Forward pass\n",
    "out = custom_attn_forward(x)"
   ]
  },
  {
   "cell_type": "code",
   "execution_count": 6,
   "metadata": {},
   "outputs": [
    {
     "data": {
      "text/plain": [
       "tensor(490.1556, grad_fn=<DistBackward0>)"
      ]
     },
     "execution_count": 6,
     "metadata": {},
     "output_type": "execute_result"
    }
   ],
   "source": [
    "random_out = torch.randn(out.shape)\n",
    "torch.dist(out,random_out)"
   ]
  },
  {
   "cell_type": "code",
   "execution_count": 7,
   "metadata": {},
   "outputs": [
    {
     "data": {
      "text/plain": [
       "tensor(0., grad_fn=<DistBackward0>)"
      ]
     },
     "execution_count": 7,
     "metadata": {},
     "output_type": "execute_result"
    }
   ],
   "source": [
    "init_random()\n",
    "qkv = nn.Linear(dim, dim * 3, bias=qkv_bias)\n",
    "attn_drop = nn.Dropout(attn_drop_rate)\n",
    "proj = nn.Linear(dim, dim, bias=proj_bias)\n",
    "proj_drop = nn.Dropout(proj_drop_rate)\n",
    "x = torch.randn((100, 3, dim))\n",
    "def custom_attn_forward(x: torch.Tensor, scale=scale) -> torch.Tensor:\n",
    "    B, N, C = x.shape\n",
    "    qkv_out = qkv(x).reshape(B, N, 3, num_heads, C // num_heads).permute(2, 0, 3, 1, 4)\n",
    "    q, k, v = qkv_out[0] * scale, qkv_out[1], qkv_out[2]\n",
    "\n",
    "    attn = q @ k.transpose(-2, -1)\n",
    "    attn = attn.softmax(dim=-1)\n",
    "    attn = attn_drop(attn)\n",
    "\n",
    "    x = (attn @ v).transpose(1, 2).reshape(B, N, C)\n",
    "    x = proj(x)\n",
    "    x = proj_drop(x)\n",
    "    return x\n",
    "out2 = custom_attn_forward(x)\n",
    "torch.dist(out,out2)"
   ]
  },
  {
   "cell_type": "markdown",
   "metadata": {},
   "source": [
    "It's reproducible"
   ]
  },
  {
   "cell_type": "code",
   "execution_count": 8,
   "metadata": {},
   "outputs": [
    {
     "name": "stdout",
     "output_type": "stream",
     "text": [
      "torch.Size([100, 12, 3, 64]) torch.Size([100, 12, 3, 64]) torch.Size([100, 12, 3, 64])\n",
      "torch.Size([100, 12, 3, 3])\n",
      "Distance to original: 0.000\n"
     ]
    }
   ],
   "source": [
    "init_random()\n",
    "qkv = nn.Linear(dim, dim * 3, bias=qkv_bias)\n",
    "attn_drop = nn.Dropout(attn_drop_rate)\n",
    "proj = nn.Linear(dim, dim, bias=proj_bias)\n",
    "proj_drop = nn.Dropout(proj_drop_rate)\n",
    "x = torch.randn((100, 3, dim))\n",
    "def custom_attn_forward(x: torch.Tensor, scale=scale) -> torch.Tensor:\n",
    "    B, N, C = x.shape\n",
    "    # Split weights and biases for query, key, value from qkv layer\n",
    "    Wq, Wk, Wv = qkv.weight.chunk(3, dim=0)\n",
    "    bq, bk, bv = qkv.bias.chunk(3, dim=0) if qkv.bias is not None else (0, 0, 0)\n",
    "\n",
    "    # Compute query, key, and value separately\n",
    "    q = (x @ Wq.T + bq).reshape(B, N, num_heads, C // num_heads).permute(0, 2, 1, 3) * scale\n",
    "    k = (x @ Wk.T + bk).reshape(B, N, num_heads, C // num_heads).permute(0, 2, 1, 3)\n",
    "    v = (x @ Wv.T + bv).reshape(B, N, num_heads, C // num_heads).permute(0, 2, 1, 3)\n",
    "    print(k.shape,q.shape,v.shape)\n",
    "    attn = q @ k.transpose(-2, -1)\n",
    "    print(attn.shape)\n",
    "    attn = attn.softmax(dim=-1)\n",
    "    attn = attn_drop(attn)\n",
    "\n",
    "    x = (attn @ v).transpose(1, 2).reshape(B, N, C)\n",
    "    x = proj(x)\n",
    "    x = proj_drop(x)\n",
    "    return x\n",
    "out3 = custom_attn_forward(x)\n",
    "print(f\"Distance to original: {torch.dist(out, out3).item():.3f}\")\n"
   ]
  },
  {
   "cell_type": "markdown",
   "metadata": {},
   "source": [
    "computing k,q,v separately with matrix product works"
   ]
  },
  {
   "cell_type": "code",
   "execution_count": 9,
   "metadata": {},
   "outputs": [
    {
     "name": "stdout",
     "output_type": "stream",
     "text": [
      "12 torch.Size([768, 768])\n",
      "torch.Size([100, 12, 3, 3])\n"
     ]
    },
    {
     "ename": "TypeError",
     "evalue": "unsupported operand type(s) for @: 'Tensor' and 'int'",
     "output_type": "error",
     "traceback": [
      "\u001b[0;31m---------------------------------------------------------------------------\u001b[0m",
      "\u001b[0;31mTypeError\u001b[0m                                 Traceback (most recent call last)",
      "Cell \u001b[0;32mIn[9], line 56\u001b[0m\n\u001b[1;32m     54\u001b[0m     x \u001b[38;5;241m=\u001b[39m proj_drop(x)\n\u001b[1;32m     55\u001b[0m     \u001b[38;5;28;01mreturn\u001b[39;00m x\n\u001b[0;32m---> 56\u001b[0m out3 \u001b[38;5;241m=\u001b[39m \u001b[43mcustom_attn_forward\u001b[49m\u001b[43m(\u001b[49m\u001b[43mx\u001b[49m\u001b[43m)\u001b[49m\n\u001b[1;32m     57\u001b[0m \u001b[38;5;28mprint\u001b[39m(\u001b[38;5;124mf\u001b[39m\u001b[38;5;124m\"\u001b[39m\u001b[38;5;124mDistance to original: \u001b[39m\u001b[38;5;132;01m{\u001b[39;00mtorch\u001b[38;5;241m.\u001b[39mdist(out,\u001b[38;5;250m \u001b[39mout3)\u001b[38;5;241m.\u001b[39mitem()\u001b[38;5;132;01m:\u001b[39;00m\u001b[38;5;124m.3f\u001b[39m\u001b[38;5;132;01m}\u001b[39;00m\u001b[38;5;124m\"\u001b[39m)\n",
      "Cell \u001b[0;32mIn[9], line 31\u001b[0m, in \u001b[0;36mcustom_attn_forward\u001b[0;34m(x, scale)\u001b[0m\n\u001b[1;32m     28\u001b[0m \u001b[38;5;28mprint\u001b[39m(main_term\u001b[38;5;241m.\u001b[39mshape)\n\u001b[1;32m     30\u001b[0m \u001b[38;5;66;03m# First Cross Term: x_expanded @ Wq @ bk\u001b[39;00m\n\u001b[0;32m---> 31\u001b[0m first_cross_term \u001b[38;5;241m=\u001b[39m torch\u001b[38;5;241m.\u001b[39meinsum(\u001b[38;5;124m'\u001b[39m\u001b[38;5;124mbnhd,hd->bhn\u001b[39m\u001b[38;5;124m'\u001b[39m, x_expanded, \u001b[43mWq\u001b[49m\u001b[38;5;241;43m.\u001b[39;49m\u001b[43mpermute\u001b[49m\u001b[43m(\u001b[49m\u001b[38;5;241;43m0\u001b[39;49m\u001b[43m,\u001b[49m\u001b[43m \u001b[49m\u001b[38;5;241;43m2\u001b[39;49m\u001b[43m,\u001b[49m\u001b[43m \u001b[49m\u001b[38;5;241;43m1\u001b[39;49m\u001b[43m)\u001b[49m\u001b[43m \u001b[49m\u001b[38;5;241;43m@\u001b[39;49m\u001b[43m \u001b[49m\u001b[43mbk\u001b[49m)\n\u001b[1;32m     32\u001b[0m \u001b[38;5;28mprint\u001b[39m(first_cross_term\u001b[38;5;241m.\u001b[39mshape)\n\u001b[1;32m     35\u001b[0m \u001b[38;5;66;03m# Second Cross Term: bq @ Wk @ x_expanded.transpose(-2, -1)\u001b[39;00m\n",
      "\u001b[0;31mTypeError\u001b[0m: unsupported operand type(s) for @: 'Tensor' and 'int'"
     ]
    }
   ],
   "source": [
    "init_random()\n",
    "qkv = nn.Linear(dim, dim * 3, bias=qkv_bias)\n",
    "attn_drop = nn.Dropout(attn_drop_rate)\n",
    "proj = nn.Linear(dim, dim, bias=proj_bias)\n",
    "proj_drop = nn.Dropout(proj_drop_rate)\n",
    "C= 3\n",
    "x = torch.randn((100, C, dim))\n",
    "def custom_attn_forward(x: torch.Tensor, scale=scale) -> torch.Tensor:\n",
    "    B, N, C = x.shape\n",
    "    # Split weights and biases for query, key, value from qkv layer\n",
    "    Wq, Wk, Wv = qkv.weight.chunk(3, dim=0)\n",
    "    M = Wq @ Wk.T\n",
    "    U, S, Vh = torch.linalg.svd(M)\n",
    "    Wq = U @ torch.diag_embed(S) \n",
    "    Wk = Vh.T\n",
    "    bq, bk, bv = qkv.bias.chunk(3, dim=0) if qkv.bias is not None else (0, 0, 0)\n",
    "    v = (x @ Wv.T + bv).reshape(B, N, num_heads, dim // num_heads).permute(0, 2, 1, 3)\n",
    "\n",
    "    print(num_heads,Wq.shape)\n",
    "    # Reshape weights for multi-head attention\n",
    "    Wq = Wq.reshape(num_heads,dim,head_dim)*scale\n",
    "    Wk = Wk.reshape(num_heads, dim,head_dim)\n",
    "\n",
    "    x_expanded = x.reshape(B, N, num_heads,  head_dim)\n",
    "\n",
    "    # Main term for attention, reshaped to include heads\n",
    "    main_term = torch.einsum('bnhd,hde,bmeh->bhnm', x_expanded, Wq.permute(0, 2, 1) @  Wk, x_expanded.transpose(-2, -1))\n",
    "    print(main_term.shape)\n",
    "\n",
    "    # First Cross Term: x_expanded @ Wq @ bk\n",
    "    first_cross_term = torch.einsum('bnhd,hd->bhn', x_expanded, Wq.permute(0, 2, 1) @ bk)\n",
    "    print(first_cross_term.shape)\n",
    "\n",
    "\n",
    "    # Second Cross Term: bq @ Wk @ x_expanded.transpose(-2, -1)\n",
    "    second_cross_term = torch.einsum('hd,bndh->bhn', bq.T @ Wk, x_expanded.transpose(-2, -1))\n",
    "    print(second_cross_term.shape)\n",
    "\n",
    "    # Constant Bias Term: bq @ bk\n",
    "    constant_bias_term = bq.T @ bk \n",
    "    print(constant_bias_term.shape)\n",
    "\n",
    "    # Full expanded formula for attention scores\n",
    "    attn = main_term + first_cross_term.unsqueeze(-1) + second_cross_term.unsqueeze(-1)  + constant_bias_term\n",
    "\n",
    "    attn = attn.softmax(dim=-1)\n",
    "    attn = attn_drop(attn)\n",
    "\n",
    "    attn = attn.softmax(dim=-1)\n",
    "    attn = attn_drop(attn)\n",
    "\n",
    "    x = (attn @ v).transpose(1, 2).reshape(B, N, C)\n",
    "    x = proj(x)\n",
    "    x = proj_drop(x)\n",
    "    return x\n",
    "out3 = custom_attn_forward(x)\n",
    "print(f\"Distance to original: {torch.dist(out, out3).item():.3f}\")"
   ]
  },
  {
   "cell_type": "code",
   "execution_count": null,
   "metadata": {},
   "outputs": [
    {
     "name": "stdout",
     "output_type": "stream",
     "text": [
      "torch.Size([100, 3, 768])\n",
      "torch.Size([768, 768])\n",
      "can I recompute the weights?\n",
      "True\n",
      "torch.Size([100, 12, 3, 3]) torch.Size([100, 12, 3, 64]) torch.Size([100, 12, 64, 3])\n",
      "can I recompute Q,K and the attention? (no head reshaping)\n",
      "True True True\n",
      "Distance to original: 0.0\n"
     ]
    }
   ],
   "source": [
    "Q_linear = torch.nn.Linear(dim,dim, bias=False)\n",
    "init_random()\n",
    "qkv = nn.Linear(dim, dim * 3, bias=qkv_bias)\n",
    "attn_drop = nn.Dropout(attn_drop_rate)\n",
    "proj = nn.Linear(dim, dim, bias=proj_bias)\n",
    "proj_drop = nn.Dropout(proj_drop_rate)\n",
    "C= 3\n",
    "x = torch.randn((100, C, dim))\n",
    "def custom_attn_forward(x: torch.Tensor, scale=scale, rank=head_dim) -> torch.Tensor:\n",
    "    B, N, C = x.shape\n",
    "    # Split weights and biases for query, key, value from qkv layer\n",
    "    print(x.shape)\n",
    "    Wqkv = qkv.weight.chunk(3, dim=0)\n",
    "    Wq, Wk, Wv = Wqkv[0], Wqkv[1], Wqkv[2]  # Separate out Wq, Wk, and Wv\n",
    "    print(Wq.shape)\n",
    "\n",
    "\n",
    "    #M = torch.bmm(Wq.T, Wk)\n",
    "    #M = Wq.T @ Wk\n",
    "    #U, S, Vh = torch.linalg.svd(M,full_matrices=True)\n",
    "    #diagonal_scale = torch.cat([torch.ones(rank), torch.zeros(dim - rank)])\n",
    "    #S = S * diagonal_scale.unsqueeze(0)\n",
    "    #Wq = torch.bmm(U[:,:,:head_dim],  torch.diag_embed(S[:,:head_dim]))\n",
    "    #print(torch.diag(S[:head_dim]).shape)\n",
    "    #Wq = U[:,:head_dim] @  torch.diag(S[:head_dim])\n",
    "    #Wk = Vh[:,:head_dim]    # Compute query, key, and value separately\n",
    "    #Wq = U @  torch.diag(S)\n",
    "    #Wk = Vh\n",
    "\n",
    "\n",
    "    print('can I recompute the weights?')\n",
    "    print(torch.equal(qkv.weight.data , torch.cat([Wq, Wk, Wv], dim=0)))\n",
    "\n",
    "\n",
    "    #qkv.weight = nn.Parameter(torch.cat([Wq, Wk, Wv], dim=0))\n",
    "\n",
    "    qkv_out = qkv(x).reshape(B, N, 3, num_heads, C // num_heads).permute(2, 0, 3, 1, 4)\n",
    "    q, k, v = qkv_out[0] *scale , qkv_out[1], qkv_out[2]\n",
    "    q2 = scale *(x @ Wq.T).reshape(B, N, num_heads, C // num_heads).permute(0, 2, 1, 3)\n",
    "    k2 =  (x @ Wk.T).reshape(B, N, num_heads, C // num_heads).permute(0, 2, 1, 3)\n",
    "    attn2 =  q2 @ k2.transpose(-2, -1)\n",
    "\n",
    "    print(attn2.shape, q2.shape, k2.transpose(-2, -1).shape)\n",
    "\n",
    "\n",
    "    attn = q @ k.transpose(-2, -1)\n",
    "    print('can I recompute Q,K and the attention? (no head reshaping)')\n",
    "    print(torch.equal(q , q2),torch.equal(k , k2),torch.equal(attn , attn2))#.permute(2, 0, 3, 1, 4)))\n",
    "\n",
    "    attn = attn.softmax(dim=-1)\n",
    "    attn = attn_drop(attn)\n",
    "\n",
    "    x = (attn @ v).transpose(1, 2).reshape(B, N, C)\n",
    "    x = proj(x)\n",
    "    x = proj_drop(x)\n",
    "    return x\n",
    "\n",
    "\n",
    "out3 = custom_attn_forward(x,rank=12)\n",
    "print(f\"Distance to original: {torch.dist(out, out3).item()}\")"
   ]
  },
  {
   "cell_type": "code",
   "execution_count": null,
   "metadata": {},
   "outputs": [
    {
     "name": "stdout",
     "output_type": "stream",
     "text": [
      "torch.Size([100, 3, 768])\n",
      "torch.Size([768, 768])\n",
      "can I recompute the weights?\n",
      "True\n",
      "torch.Size([100, 12, 3, 3]) torch.Size([100, 12, 3, 64]) torch.Size([100, 12, 64, 3])\n"
     ]
    },
    {
     "ename": "AttributeError",
     "evalue": "'tuple' object has no attribute 'shape'",
     "output_type": "error",
     "traceback": [
      "\u001b[0;31m---------------------------------------------------------------------------\u001b[0m",
      "\u001b[0;31mAttributeError\u001b[0m                            Traceback (most recent call last)",
      "Cell \u001b[0;32mIn[51], line 84\u001b[0m\n\u001b[1;32m     80\u001b[0m     x \u001b[38;5;241m=\u001b[39m proj_drop(x)\n\u001b[1;32m     81\u001b[0m     \u001b[38;5;28;01mreturn\u001b[39;00m x\n\u001b[0;32m---> 84\u001b[0m out3 \u001b[38;5;241m=\u001b[39m \u001b[43mcustom_attn_forward\u001b[49m\u001b[43m(\u001b[49m\u001b[43mx\u001b[49m\u001b[43m,\u001b[49m\u001b[43mrank\u001b[49m\u001b[38;5;241;43m=\u001b[39;49m\u001b[38;5;241;43m12\u001b[39;49m\u001b[43m)\u001b[49m\n\u001b[1;32m     85\u001b[0m \u001b[38;5;28mprint\u001b[39m(\u001b[38;5;124mf\u001b[39m\u001b[38;5;124m\"\u001b[39m\u001b[38;5;124mDistance to original: \u001b[39m\u001b[38;5;132;01m{\u001b[39;00mtorch\u001b[38;5;241m.\u001b[39mdist(out,\u001b[38;5;250m \u001b[39mout3)\u001b[38;5;241m.\u001b[39mitem()\u001b[38;5;132;01m}\u001b[39;00m\u001b[38;5;124m\"\u001b[39m)\n",
      "Cell \u001b[0;32mIn[51], line 58\u001b[0m, in \u001b[0;36mcustom_attn_forward\u001b[0;34m(x, scale, rank)\u001b[0m\n\u001b[1;32m     45\u001b[0m \u001b[38;5;66;03m#Wq_heads = Wq.reshape(num_heads, head_dim, -1)  # [12, 64, 768]\u001b[39;00m\n\u001b[1;32m     46\u001b[0m \u001b[38;5;66;03m#q3 = (x.unsqueeze(1) @ Wq_heads.permute(0, 2, 1))\u001b[39;00m\n\u001b[1;32m     47\u001b[0m \n\u001b[0;32m   (...)\u001b[0m\n\u001b[1;32m     54\u001b[0m \u001b[38;5;66;03m#Wq_heads = Wq.reshape(-1,num_heads, head_dim)  # [768,12, 64]\u001b[39;00m\n\u001b[1;32m     55\u001b[0m \u001b[38;5;66;03m#q3 = (x.unsqueeze(1) @ Wq_heads.permute(1, 0, 2))\u001b[39;00m\n\u001b[1;32m     57\u001b[0m Wq_heads \u001b[38;5;241m=\u001b[39m Wq\u001b[38;5;241m.\u001b[39mchunk(num_heads, dim\u001b[38;5;241m=\u001b[39m\u001b[38;5;241m0\u001b[39m)\n\u001b[0;32m---> 58\u001b[0m \u001b[38;5;28mprint\u001b[39m(\u001b[43mWq_heads\u001b[49m\u001b[38;5;241;43m.\u001b[39;49m\u001b[43mshape\u001b[49m)\n\u001b[1;32m     59\u001b[0m \u001b[38;5;28mprint\u001b[39m(\u001b[38;5;124m\"\u001b[39m\u001b[38;5;124mok\u001b[39m\u001b[38;5;124m\"\u001b[39m,Wq_heads[\u001b[38;5;241m0\u001b[39m]\u001b[38;5;241m.\u001b[39mshape)\n\u001b[1;32m     60\u001b[0m \u001b[38;5;28mprint\u001b[39m((Wq_heads[\u001b[38;5;241m0\u001b[39m]\u001b[38;5;241m.\u001b[39mT)\u001b[38;5;241m.\u001b[39mshape)\n",
      "\u001b[0;31mAttributeError\u001b[0m: 'tuple' object has no attribute 'shape'"
     ]
    }
   ],
   "source": [
    "Q_linear = torch.nn.Linear(dim,dim, bias=False)\n",
    "init_random()\n",
    "qkv = nn.Linear(dim, dim * 3, bias=qkv_bias)\n",
    "attn_drop = nn.Dropout(attn_drop_rate)\n",
    "proj = nn.Linear(dim, dim, bias=proj_bias)\n",
    "proj_drop = nn.Dropout(proj_drop_rate)\n",
    "C= 3\n",
    "x = torch.randn((100, C, dim))\n",
    "def custom_attn_forward(x: torch.Tensor, scale=scale, rank=head_dim) -> torch.Tensor:\n",
    "    B, N, C = x.shape\n",
    "    # Split weights and biases for query, key, value from qkv layer\n",
    "    print(x.shape)\n",
    "    Wqkv = qkv.weight.chunk(3, dim=0)\n",
    "    Wq, Wk, Wv = Wqkv[0], Wqkv[1], Wqkv[2]  # Separate out Wq, Wk, and Wv\n",
    "    print(Wq.shape)\n",
    "\n",
    "\n",
    "    #M = torch.bmm(Wq.T, Wk)\n",
    "    #M = Wq.T @ Wk\n",
    "    #U, S, Vh = torch.linalg.svd(M,full_matrices=True)\n",
    "    #diagonal_scale = torch.cat([torch.ones(rank), torch.zeros(dim - rank)])\n",
    "    #S = S * diagonal_scale.unsqueeze(0)\n",
    "    #Wq = torch.bmm(U[:,:,:head_dim],  torch.diag_embed(S[:,:head_dim]))\n",
    "    #print(torch.diag(S[:head_dim]).shape)\n",
    "    #Wq = U[:,:head_dim] @  torch.diag(S[:head_dim])\n",
    "    #Wk = Vh[:,:head_dim]    # Compute query, key, and value separately\n",
    "    #Wq = U @  torch.diag(S)\n",
    "    #Wk = Vh\n",
    "\n",
    "\n",
    "    print('can I recompute the weights?')\n",
    "    print(torch.equal(qkv.weight.data , torch.cat([Wq, Wk, Wv], dim=0)))\n",
    "\n",
    "\n",
    "    #qkv.weight = nn.Parameter(torch.cat([Wq, Wk, Wv], dim=0))\n",
    "\n",
    "    qkv_out = qkv(x).reshape(B, N, 3, num_heads, C // num_heads).permute(2, 0, 3, 1, 4)\n",
    "    q, k, v = qkv_out[0] *scale , qkv_out[1], qkv_out[2]\n",
    "    q2 = scale *(x @ Wq.T).reshape(B, N, num_heads, C // num_heads).permute(0, 2, 1, 3)\n",
    "    k2 =  (x @ Wk.T).reshape(B, N, num_heads, C // num_heads).permute(0, 2, 1, 3)\n",
    "    attn2 =  q2 @ k2.transpose(-2, -1)\n",
    "\n",
    "    print(attn2.shape, q2.shape, k2.transpose(-2, -1).shape)\n",
    "\n",
    "    #Wq_heads = Wq.reshape(num_heads, head_dim, -1)  # [12, 64, 768]\n",
    "    #q3 = (x.unsqueeze(1) @ Wq_heads.permute(0, 2, 1))\n",
    "\n",
    "    #Wq_heads = Wq.reshape(num_heads,-1, head_dim)  # [12,768, 64]\n",
    "    #q3 = (x.unsqueeze(1) @ Wq_heads)\n",
    "\n",
    "    #Wq_heads = Wq.reshape(-1,num_heads, head_dim)  # [768,12, 64]\n",
    "    #q3 = (x.unsqueeze(1) @ Wq_heads.permute(1, 0, 2))\n",
    "\n",
    "    #Wq_heads = Wq.reshape(-1,num_heads, head_dim)  # [768,12, 64]\n",
    "    #q3 = (x.unsqueeze(1) @ Wq_heads.permute(1, 0, 2))\n",
    "\n",
    "    Wq_heads = Wq.chunk(num_heads, dim=0)\n",
    "    print(Wq_heads)\n",
    "    print(\"ok\",Wq_heads[0].shape)\n",
    "    print((Wq_heads[0].T).shape)\n",
    "    q_chunks = [(x @ Wq_head.T).unsqueeze(1) for Wq_head in Wq_heads]  # List of [B, 1, C, head_dim] tensors\n",
    "\n",
    "    q3 = torch.cat(q_chunks, dim=1)\n",
    "\n",
    "\n",
    "\n",
    "    print(q3.shape)\n",
    "    print(q.shape, q3.shape)\n",
    "    print(torch.equal(q , q3))\n",
    "\n",
    "    attn = q @ k.transpose(-2, -1)\n",
    "    print('can I recompute Q,K and the attention? (no head reshaping)')\n",
    "    print(torch.equal(q , q2),torch.equal(k , k2),torch.equal(attn , attn2))#.permute(2, 0, 3, 1, 4)))\n",
    "\n",
    "    attn = attn.softmax(dim=-1)\n",
    "    attn = attn_drop(attn)\n",
    "\n",
    "    x = (attn @ v).transpose(1, 2).reshape(B, N, C)\n",
    "    x = proj(x)\n",
    "    x = proj_drop(x)\n",
    "    return x\n",
    "\n",
    "\n",
    "out3 = custom_attn_forward(x,rank=12)\n",
    "print(f\"Distance to original: {torch.dist(out, out3).item()}\")"
   ]
  },
  {
   "cell_type": "code",
   "execution_count": null,
   "metadata": {},
   "outputs": [
    {
     "name": "stdout",
     "output_type": "stream",
     "text": [
      "True\n"
     ]
    }
   ],
   "source": [
    "C = 5\n",
    "x = torch.randn((100, C, dim))\n",
    "\n",
    "qkv = nn.Linear(dim, dim * 3, bias=False)\n",
    "wq =  qkv.weight.chunk(3, dim=0)[0]\n",
    "qkv_out = qkv(x)\n",
    "y = x @ wq.T\n",
    "print(torch.equal(qkv_out.chunk(3, dim=2)[0],y))"
   ]
  },
  {
   "cell_type": "code",
   "execution_count": null,
   "metadata": {},
   "outputs": [
    {
     "name": "stdout",
     "output_type": "stream",
     "text": [
      "True\n",
      "tensor([[-1.3161, -1.7805,  1.2773,  1.0039],\n",
      "        [ 1.6497,  1.6137,  2.3427, -0.1695],\n",
      "        [ 0.8789, -1.3289, -0.5491,  0.0449],\n",
      "        [ 3.4008,  0.7467, -0.4544,  2.0355],\n",
      "        [-2.2082, -1.0199, -0.6361, -1.1402],\n",
      "        [-2.7425, -1.4518,  1.0103, -0.2906],\n",
      "        [ 0.5358, -0.1602,  1.3215, -0.7169],\n",
      "        [ 0.3738, -1.8019,  0.2151, -1.1909],\n",
      "        [ 0.8262, -0.1136, -1.3393, -0.3467]])\n"
     ]
    }
   ],
   "source": [
    "import torch\n",
    "\n",
    "# Example tensor\n",
    "A = torch.randn(9, 4)  # Example tensor with shape (9, 4)\n",
    "\n",
    "# Split into 3 chunks along dimension 0\n",
    "B = A.chunk(3, dim=0)\n",
    "\n",
    "# Concatenate the chunks back along dimension 0\n",
    "A_reconstructed = torch.cat(B, dim=0)\n",
    "\n",
    "# Verify if A and A_reconstructed are the same\n",
    "print(torch.allclose(A, A_reconstructed))  # Should print: True\n",
    "print(A_reconstructed)  # Prints the reconstructed tensor\n"
   ]
  },
  {
   "cell_type": "code",
   "execution_count": null,
   "metadata": {},
   "outputs": [
    {
     "name": "stdout",
     "output_type": "stream",
     "text": [
      "Are Wq_reshaped and Wq_chunked_concat equal? True\n"
     ]
    }
   ],
   "source": [
    "import torch\n",
    "\n",
    "# Define a random tensor with shape [768, 768]\n",
    "Wq = torch.rand(768, 768)\n",
    "\n",
    "# Define parameters for heads\n",
    "num_heads = 12\n",
    "head_dim = 768 // num_heads\n",
    "\n",
    "\n",
    "# Step 1: Reshape Wq\n",
    "Wq_reshaped = Wq.reshape(num_heads, head_dim, 768)  # Shape: [12, 64, 768]\n",
    "\n",
    "# Step 2: Chunk Wq along the first dimension into num_heads chunks\n",
    "Wq_chunks = Wq.chunk(num_heads, dim=0)  # List of 12 tensors, each with shape [64, 768]\n",
    "\n",
    "# Step 3: Concatenate the chunks to match the shape of the reshaped tensor\n",
    "Wq_chunked_concat = torch.stack(Wq_chunks)  # Shape: [12, 64, 768]\n",
    "\n",
    "# Step 4: Check for equality\n",
    "equal_check = torch.equal(Wq_reshaped, Wq_chunked_concat)\n",
    "print(\"Are Wq_reshaped and Wq_chunked_concat equal?\", equal_check)\n"
   ]
  },
  {
   "cell_type": "code",
   "execution_count": null,
   "metadata": {},
   "outputs": [
    {
     "name": "stdout",
     "output_type": "stream",
     "text": [
      "torch.Size([12, 64])\n",
      "torch.Size([12, 64])\n",
      "True\n",
      "Are Wq_reshaped and Wq_chunked_concat equal? True\n"
     ]
    }
   ],
   "source": [
    "import torch\n",
    "\n",
    "# Define a random tensor with shape [768, 768]\n",
    "Wq = torch.rand(768, 768)\n",
    "x = torch.rand(1, 768)\n",
    "\n",
    "# Define parameters for heads\n",
    "num_heads = 12\n",
    "head_dim = 768 // num_heads\n",
    "\n",
    "y_reshaped = x @ Wq.T\n",
    "y_reshaped = y_reshaped.reshape(num_heads, head_dim)\n",
    "print(y_reshaped.shape)\n",
    "\n",
    "\n",
    "# Step 1: Reshape Wq\n",
    "Wq_reshaped = Wq.reshape(num_heads, head_dim, 768)  # Shape: [12, 64, 768]\n",
    "y2 = x @ Wq_reshaped.permute(0,2,1)\n",
    "y2 = y2.reshape(num_heads, head_dim)\n",
    "\n",
    "print(y2.shape)\n",
    "print(torch.equal(y_reshaped,y2))\n",
    "\n",
    "# Step 2: Chunk Wq along the first dimension into num_heads chunks\n",
    "Wq_chunks = Wq.chunk(num_heads, dim=0)  # List of 12 tensors, each with shape [64, 768]\n",
    "\n",
    "# Step 3: Concatenate the chunks to match the shape of the reshaped tensor\n",
    "Wq_chunked_concat = torch.stack(Wq_chunks)  # Shape: [12, 64, 768]\n",
    "\n",
    "# Step 4: Check for equality\n",
    "equal_check = torch.equal(Wq_reshaped, Wq_chunked_concat)\n",
    "print(\"Are Wq_reshaped and Wq_chunked_concat equal?\", equal_check)\n"
   ]
  },
  {
   "cell_type": "code",
   "execution_count": null,
   "metadata": {},
   "outputs": [
    {
     "name": "stdout",
     "output_type": "stream",
     "text": [
      "torch.Size([12, 64])\n",
      "torch.Size([12, 64])\n",
      "True\n"
     ]
    }
   ],
   "source": [
    "import torch\n",
    "\n",
    "\n",
    "B=100\n",
    "C = 5\n",
    "# Define a random tensor with shape [768, 768]\n",
    "Wq = torch.rand(768, 768)\n",
    "x = torch.rand(1, 768)\n",
    "\n",
    "# Define parameters for heads\n",
    "num_heads = 12\n",
    "head_dim = 768 // num_heads\n",
    "\n",
    "y_reshaped = x @ Wq.T\n",
    "y_reshaped = y_reshaped.reshape(num_heads, head_dim)\n",
    "print(y_reshaped.shape)\n",
    "\n",
    "\n",
    "# Step 1: Reshape Wq\n",
    "Wq_reshaped = Wq.reshape(num_heads, head_dim, 768)  # Shape: [12, 64, 768]\n",
    "y2 = x @ Wq_reshaped.permute(0,2,1)\n",
    "y2 = y2.reshape(num_heads, head_dim)\n",
    "\n",
    "print(y2.shape)\n",
    "print(torch.equal(y_reshaped,y2))\n"
   ]
  },
  {
   "cell_type": "code",
   "execution_count": null,
   "metadata": {},
   "outputs": [
    {
     "name": "stdout",
     "output_type": "stream",
     "text": [
      "torch.Size([100, 5, 12, 64])\n",
      "torch.Size([100, 5, 1, 768])\n",
      "torch.Size([12, 768, 64])\n"
     ]
    },
    {
     "ename": "RuntimeError",
     "evalue": "The size of tensor a (5) must match the size of tensor b (12) at non-singleton dimension 1",
     "output_type": "error",
     "traceback": [
      "\u001b[0;31m---------------------------------------------------------------------------\u001b[0m",
      "\u001b[0;31mRuntimeError\u001b[0m                              Traceback (most recent call last)",
      "Cell \u001b[0;32mIn[74], line 23\u001b[0m\n\u001b[1;32m     21\u001b[0m \u001b[38;5;28mprint\u001b[39m(x\u001b[38;5;241m.\u001b[39munsqueeze(\u001b[38;5;241m-\u001b[39m\u001b[38;5;241m2\u001b[39m)\u001b[38;5;241m.\u001b[39mshape)\n\u001b[1;32m     22\u001b[0m \u001b[38;5;28mprint\u001b[39m(Wq_reshaped\u001b[38;5;241m.\u001b[39mpermute(\u001b[38;5;241m0\u001b[39m,\u001b[38;5;241m2\u001b[39m,\u001b[38;5;241m1\u001b[39m)\u001b[38;5;241m.\u001b[39mshape)\n\u001b[0;32m---> 23\u001b[0m y2 \u001b[38;5;241m=\u001b[39m \u001b[43mx\u001b[49m\u001b[38;5;241;43m.\u001b[39;49m\u001b[43munsqueeze\u001b[49m\u001b[43m(\u001b[49m\u001b[38;5;241;43m-\u001b[39;49m\u001b[38;5;241;43m2\u001b[39;49m\u001b[43m)\u001b[49m\u001b[38;5;241;43m@\u001b[39;49m\u001b[43m \u001b[49m\u001b[43mWq_reshaped\u001b[49m\u001b[38;5;241;43m.\u001b[39;49m\u001b[43mpermute\u001b[49m\u001b[43m(\u001b[49m\u001b[38;5;241;43m0\u001b[39;49m\u001b[43m,\u001b[49m\u001b[38;5;241;43m2\u001b[39;49m\u001b[43m,\u001b[49m\u001b[38;5;241;43m1\u001b[39;49m\u001b[43m)\u001b[49m\n\u001b[1;32m     24\u001b[0m y2 \u001b[38;5;241m=\u001b[39m y2\u001b[38;5;241m.\u001b[39mreshape(B,C,num_heads, head_dim)\n\u001b[1;32m     26\u001b[0m \u001b[38;5;28mprint\u001b[39m(y2\u001b[38;5;241m.\u001b[39mshape)\n",
      "\u001b[0;31mRuntimeError\u001b[0m: The size of tensor a (5) must match the size of tensor b (12) at non-singleton dimension 1"
     ]
    }
   ],
   "source": [
    "import torch\n",
    "\n",
    "\n",
    "B=100\n",
    "C = 5\n",
    "# Define a random tensor with shape [768, 768]\n",
    "Wq = torch.rand(768, 768)\n",
    "x = torch.rand(B,C, 768)\n",
    "\n",
    "# Define parameters for heads\n",
    "num_heads = 12\n",
    "head_dim = 768 // num_heads\n",
    "\n",
    "y_reshaped = x @ Wq.T\n",
    "y_reshaped = y_reshaped.reshape(B,C,num_heads, head_dim)\n",
    "print(y_reshaped.shape)\n",
    "\n",
    "\n",
    "# Step 1: Reshape Wq\n",
    "Wq_reshaped = Wq.reshape(num_heads, head_dim, 768)  # Shape: [12, 64, 768]\n",
    "print(x.unsqueeze(-2).shape)\n",
    "print(Wq_reshaped.permute(0,2,1).shape)\n",
    "y2 = x.unsqueeze(-2)@ Wq_reshaped.permute(0,2,1)\n",
    "y2 = y2.reshape(B,C,num_heads, head_dim)\n",
    "\n",
    "print(y2.shape)\n",
    "print(torch.equal(y_reshaped,y2))\n"
   ]
  },
  {
   "cell_type": "code",
   "execution_count": null,
   "metadata": {},
   "outputs": [
    {
     "data": {
      "image/png": "[encoded data removed]",
      "text/plain": [
       "<Figure size 640x480 with 1 Axes>"
      ]
     },
     "metadata": {},
     "output_type": "display_data"
    }
   ],
   "source": [
    "import torch\n",
    "import matplotlib.pyplot as plt\n",
    "\n",
    "# Define parameters and generate data\n",
    "N = 12\n",
    "a = torch.randn(N)\n",
    "b = torch.softmax(a / 2, dim=0)\n",
    "x = torch.arange(N)\n",
    "\n",
    "# Sort the indices of b to find the top 3 values\n",
    "top3_indices = torch.topk(b, 3).indices\n",
    "\n",
    "# Set colors: red for top 3, default color for others\n",
    "colors = ['green' if i in top3_indices else 'red' for i in range(N)]\n",
    "\n",
    "# Create horizontal bar chart with specified colors\n",
    "plt.barh(x, b, color=colors)\n",
    "plt.xlabel('p(y|x)', fontsize=14)\n",
    "plt.ylabel('Classes', fontsize=14)\n",
    "plt.title('Base classes Activation', fontsize=16)\n",
    "plt.xticks(fontsize=12)\n",
    "plt.yticks(fontsize=12)\n",
    "plt.show()\n"
   ]
  },
  {
   "cell_type": "code",
   "execution_count": null,
   "metadata": {},
   "outputs": [
    {
     "data": {
      "text/plain": [
       "106.0"
      ]
     },
     "execution_count": 120,
     "metadata": {},
     "output_type": "execute_result"
    }
   ],
   "source": [
    "a = 173+39\n",
    "\n",
    "a/2"
   ]
  },
  {
   "cell_type": "code",
   "execution_count": null,
   "metadata": {},
   "outputs": [
    {
     "data": {
      "image/png": "[encoded data removed]",
      "text/plain": [
       "<Figure size 800x600 with 1 Axes>"
      ]
     },
     "metadata": {},
     "output_type": "display_data"
    },
    {
     "name": "stdout",
     "output_type": "stream",
     "text": [
      "Sample 1 is in cluster 2\n",
      "Sample 2 is in cluster 3\n",
      "Sample 3 is in cluster 2\n",
      "Sample 4 is in cluster 1\n",
      "Sample 5 is in cluster 2\n",
      "Sample 6 is in cluster 3\n",
      "Sample 7 is in cluster 1\n",
      "Sample 8 is in cluster 1\n",
      "Sample 9 is in cluster 3\n",
      "Sample 10 is in cluster 3\n",
      "Sample 11 is in cluster 2\n"
     ]
    }
   ],
   "source": [
    "import numpy as np\n",
    "import matplotlib.pyplot as plt\n",
    "from scipy.cluster.hierarchy import dendrogram, linkage, fcluster\n",
    "\n",
    "# Generate random data (10 samples with 2 features)\n",
    "np.random.seed(2)\n",
    "data = np.random.rand(11, 2)\n",
    "\n",
    "# Perform hierarchical clustering using Ward's method\n",
    "linked = linkage(data, method='ward')\n",
    "threshold = linked[-2, 2] #+ 1e-9  # Use the third last distance to set 3 clusters\n",
    "\n",
    "# Plot dendrogram\n",
    "plt.figure(figsize=(8, 6))\n",
    "dendrogram(linked, orientation='top', distance_sort='descending', show_leaf_counts=True, color_threshold=threshold)\n",
    "\n",
    "# Determine threshold distance\n",
    "plt.axhline(y=threshold, color='r', linestyle='--', label=f'Threshold: {threshold:.2f}')\n",
    "plt.legend()\n",
    "\n",
    "# Generate clusters\n",
    "clusters = fcluster(linked, threshold, criterion='distance')\n",
    "\n",
    "# Display the results\n",
    "plt.title(\"Ward's Method Dendrogram with 3 Clusters\")\n",
    "plt.xlabel(\"Class Index\")\n",
    "plt.ylabel(\"Distance between clusters\")\n",
    "plt.ylim(0, max(linked[:, 2]) * 1.1)  # Adjust y-axis to fit the threshold line\n",
    "plt.show()\n",
    "\n",
    "# Print clusters\n",
    "for i, cluster in enumerate(clusters, start=1):\n",
    "    print(f\"Sample {i} is in cluster {cluster}\")\n"
   ]
  }
 ],
 "metadata": {
  "kernelspec": {
   "display_name": "lab",
   "language": "python",
   "name": "python3"
  },
  "language_info": {
   "codemirror_mode": {
    "name": "ipython",
    "version": 3
   },
   "file_extension": ".py",
   "mimetype": "text/x-python",
   "name": "python",
   "nbconvert_exporter": "python",
   "pygments_lexer": "ipython3",
   "version": "3.8.10"
  }
 },
 "nbformat": 4,
 "nbformat_minor": 2
}
